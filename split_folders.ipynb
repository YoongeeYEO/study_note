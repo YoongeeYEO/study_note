{
 "cells": [
  {
   "cell_type": "markdown",
   "id": "640067ca",
   "metadata": {},
   "source": [
    "# Split-Folders 활용하여 이미지 데이터셋 분리하기\n",
    "\n",
    "* 딥러닝 네트워크를 학습하고 평가 및 검증하기 위해선 데이터셋 분리가 필수적이다.\n",
    "\n",
    "* 이를 도와주는 유용한 python 라이브러리가 바로 split-folders\n",
    "\n",
    "* split-folders를 적용하기전 데이터의 디렉터리 구조는 다음과 같아야 함\n",
    "\n",
    "  - input /\n",
    "  \n",
    "         class1 /\n",
    "           img1\n",
    "           img2\n",
    "           img3\n",
    "         class2 /\n",
    "           img1\n",
    "           img2\n",
    "           img3\n",
    "         class3\n",
    "           img1\n",
    "           img2\n",
    "           img3"
   ]
  },
  {
   "cell_type": "code",
   "execution_count": null,
   "id": "8bdf4e44",
   "metadata": {},
   "outputs": [],
   "source": [
    "!pip install split-folders"
   ]
  },
  {
   "cell_type": "markdown",
   "id": "100d68d5",
   "metadata": {},
   "source": [
    "# 1. 비율로 나누기(train/val/test)"
   ]
  },
  {
   "cell_type": "code",
   "execution_count": null,
   "id": "f9746bf6",
   "metadata": {},
   "outputs": [],
   "source": [
    "import splitfolders\n",
    "import os\n",
    "\n",
    "os.makedirs('output')\n",
    "os.makedirs('output/train')\n",
    "os.makedirs('output/val')\n",
    "os.makedirs('output/test')\n",
    "\n",
    "loc = \"/content/drive/MyDrive/피부질환 classification/IMG_CLASSES/\"\n",
    "\n",
    "splitfolders.ratio(loc,output = \"output\",seed = 42,ratio = (0.80,.1,.1))"
   ]
  },
  {
   "cell_type": "markdown",
   "id": "463164e6",
   "metadata": {},
   "source": [
    "# 2. 고정된 갯수로 나누기"
   ]
  },
  {
   "cell_type": "code",
   "execution_count": null,
   "id": "b907395e",
   "metadata": {},
   "outputs": [],
   "source": [
    "# validation만 지정해주고 싶다면 숫자 하나만 입력\n",
    "# validation/test를 지정하려면 두 개만 입력, 나머지는 train set\n",
    "# train/validation/test를 모두 지정해주고 싶다면 숫자 3개를 입력\n",
    "\n",
    "\n",
    "splitfolders.fixed(\"input_folder\", output=\"output\", seed=1337, fixed=(100, 100))"
   ]
  },
  {
   "cell_type": "markdown",
   "id": "48bc5a01",
   "metadata": {},
   "source": [
    "* split-folders를 이용한 코드 몇 줄로 데이터를 쉽게 split 할 수 있다."
   ]
  }
 ],
 "metadata": {
  "kernelspec": {
   "display_name": "Python 3 (ipykernel)",
   "language": "python",
   "name": "python3"
  },
  "language_info": {
   "codemirror_mode": {
    "name": "ipython",
    "version": 3
   },
   "file_extension": ".py",
   "mimetype": "text/x-python",
   "name": "python",
   "nbconvert_exporter": "python",
   "pygments_lexer": "ipython3",
   "version": "3.10.7"
  }
 },
 "nbformat": 4,
 "nbformat_minor": 5
}
